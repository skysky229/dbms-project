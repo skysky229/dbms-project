{
 "cells": [
  {
   "cell_type": "code",
   "execution_count": 1,
   "id": "e4779eb5-b87e-42fb-81d8-0d140841bbc0",
   "metadata": {},
   "outputs": [
    {
     "ename": "IndentationError",
     "evalue": "unexpected indent (2738966438.py, line 15)",
     "output_type": "error",
     "traceback": [
      "\u001b[0;36m  Input \u001b[0;32mIn [1]\u001b[0;36m\u001b[0m\n\u001b[0;31m    .getOrCreate()\u001b[0m\n\u001b[0m    ^\u001b[0m\n\u001b[0;31mIndentationError\u001b[0m\u001b[0;31m:\u001b[0m unexpected indent\n"
     ]
    }
   ],
   "source": [
    "from pyspark.sql import SparkSession\n",
    "\n",
    "# Initialize Spark session with Delta Lake package and MinIO configurations\n",
    "spark = SparkSession.builder \\\n",
    "    .appName(\"DeltaLakeExample\") \\\n",
    "    .master(\"spark://spark-master:7077\") \\\n",
    "    .config(\"spark.jars.packages\", \"io.delta:delta-core_2.12:2.0.0\") \\\n",
    "    .config(\"spark.sql.extensions\", \"io.delta.sql.DeltaSparkSessionExtension\") \\\n",
    "    .config(\"spark.sql.catalog.spark_catalog\", \"org.apache.spark.sql.delta.catalog.DeltaCatalog\") \\\n",
    "    .getOrCreate()\n",
    "    # .config(\"spark.hadoop.fs.s3a.endpoint\", \"http://bigdata-minio:9000\") \\\n",
    "    # .config(\"spark.hadoop.fs.s3a.access.key\", \"minio_user\") \\\n",
    "    # .config(\"spark.hadoop.fs.s3a.secret.key\", \"minio_password\") \\\n",
    "    # .config(\"spark.hadoop.fs.s3a.path.style.access\", \"true\") \\\n",
    "    # .config(\"spark.hadoop.fs.s3a.impl\", \"org.apache.hadoop.fs.s3a.S3AFileSystem\") \\\n"
   ]
  },
  {
   "cell_type": "code",
   "execution_count": null,
   "id": "5dd2fc91-6653-4c60-bb9a-ab919829fd7d",
   "metadata": {},
   "outputs": [],
   "source": [
    "data = [(\"Alice\", 34), (\"Bob\", 45), (\"Cathy\", 29)]\n",
    "columns = [\"Name\", \"Age\"]\n",
    "print(data)"
   ]
  },
  {
   "cell_type": "code",
   "execution_count": null,
   "id": "38a7e8d7-acf6-43cf-a7dd-8c552e5b0fc8",
   "metadata": {},
   "outputs": [],
   "source": [
    "# Create a sample DataFrame\n",
    "df = spark.createDataFrame(data, columns)\n",
    "\n",
    "df.head()"
   ]
  },
  {
   "cell_type": "code",
   "execution_count": null,
   "id": "9f11ae38-557b-43a8-b30b-6d08586f8293",
   "metadata": {},
   "outputs": [],
   "source": [
    "# Write the DataFrame as a Delta table to MinIO\n",
    "df.write.format(\"delta\").mode(\"overwrite\").save(\"s3a://test-bucket/delta-table\")"
   ]
  }
 ],
 "metadata": {
  "kernelspec": {
   "display_name": "Python 3 (ipykernel)",
   "language": "python",
   "name": "python3"
  },
  "language_info": {
   "codemirror_mode": {
    "name": "ipython",
    "version": 3
   },
   "file_extension": ".py",
   "mimetype": "text/x-python",
   "name": "python",
   "nbconvert_exporter": "python",
   "pygments_lexer": "ipython3",
   "version": "3.10.5"
  }
 },
 "nbformat": 4,
 "nbformat_minor": 5
}
