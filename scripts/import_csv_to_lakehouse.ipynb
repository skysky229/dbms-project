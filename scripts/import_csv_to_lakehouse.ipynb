{
 "cells": [
  {
   "cell_type": "code",
   "execution_count": 5,
   "id": "3f087499-d677-4ac5-9f7a-7e81372640c2",
   "metadata": {},
   "outputs": [],
   "source": [
    "from pyspark.sql import SparkSession\n",
    "\n",
    "# Initialize Spark session with Delta Lake package\n",
    "spark = SparkSession.builder \\\n",
    "    .appName(\"DeltaLakeExample\") \\\n",
    "    .master(\"spark://dbms-spark-master:7077\") \\\n",
    "    .config(\"spark.jars.packages\", \"io.delta:delta-spark_2.12:3.2.0,org.apache.hadoop:hadoop-aws:3.3.4\") \\\n",
    "    .config(\"spark.sql.extensions\", \"io.delta.sql.DeltaSparkSessionExtension\") \\\n",
    "    .config(\"spark.sql.catalog.spark_catalog\", \"org.apache.spark.sql.delta.catalog.DeltaCatalog\") \\\n",
    "    .config(\"spark.hadoop.fs.s3a.endpoint\", \"http://dbms-minio:9000\") \\\n",
    "    .config(\"spark.hadoop.fs.s3a.access.key\", \"minio_user\") \\\n",
    "    .config(\"spark.hadoop.fs.s3a.secret.key\", \"minio_password\") \\\n",
    "    .config(\"spark.hadoop.fs.s3a.path.style.access\", \"true\") \\\n",
    "    .config(\"spark.hadoop.fs.s3a.impl\", \"org.apache.hadoop.fs.s3a.S3AFileSystem\") \\\n",
    "    .getOrCreate()\n"
   ]
  },
  {
   "cell_type": "code",
   "execution_count": 8,
   "id": "6ec99268-3bba-40a5-bc5b-15e93dabdb16",
   "metadata": {},
   "outputs": [
    {
     "name": "stdout",
     "output_type": "stream",
     "text": [
      "+------------+--------------------+--------------------+--------------------+\n",
      "|    Category|               Skill|             Company|             Project|\n",
      "+------------+--------------------+--------------------+--------------------+\n",
      "|Data Science|['javascript', 'j...|   Ernst & Young LLP|[{'Project': 'Cor...|\n",
      "|Data Science|['python', 'stats...|            Matelabs|                  []|\n",
      "|Data Science|['analysis', 'exc...|      THEMATHCOMPANY|                  []|\n",
      "|Data Science|['programming', '...|        Deloitte USI|                  []|\n",
      "|Data Science|['structure', 'c'...|          Itechpower|                  []|\n",
      "|Data Science|['office', 'c', '...|                NULL|                  []|\n",
      "|Data Science|['learning', 'pyt...|Heretic Solutions...|                  []|\n",
      "|Data Science|['numpy', 'learni...|  Wipro Technologies|                  []|\n",
      "|Data Science|                  []|Life Insurance Co...|                  []|\n",
      "|Data Science|['algorithms', 'b...|   IBM India pvt ltd|                  []|\n",
      "|Data Science|['javascript', 'j...|   Ernst & Young LLP|[{'Project': 'Cor...|\n",
      "|Data Science|['python', 'stats...|            Matelabs|                  []|\n",
      "|Data Science|['analysis', 'exc...|      THEMATHCOMPANY|                  []|\n",
      "|Data Science|['programming', '...|        Deloitte USI|                  []|\n",
      "|Data Science|['structure', 'c'...|          Itechpower|                  []|\n",
      "|Data Science|['office', 'c', '...|                NULL|                  []|\n",
      "|Data Science|['learning', 'pyt...|Heretic Solutions...|                  []|\n",
      "|Data Science|['numpy', 'learni...|  Wipro Technologies|                  []|\n",
      "|Data Science|                  []|Life Insurance Co...|                  []|\n",
      "|Data Science|['algorithms', 'b...|   IBM India pvt ltd|                  []|\n",
      "+------------+--------------------+--------------------+--------------------+\n",
      "only showing top 20 rows\n",
      "\n"
     ]
    }
   ],
   "source": [
    "minio_bucket=\"cleaned-bucket\"\n",
    "csv_path = f\"s3a://{minio_bucket}/cv_from_text/transform_cv.csv\"\n",
    "\n",
    "# Read the CSV file\n",
    "df = spark.read.csv(csv_path, header=True, inferSchema=True)\n",
    "\n",
    "# Show the data\n",
    "df.show()"
   ]
  },
  {
   "cell_type": "code",
   "execution_count": 9,
   "id": "aba03f28-a1ac-41b9-b0b8-1c738547d353",
   "metadata": {},
   "outputs": [],
   "source": [
    "delta_table = \"unified_cv\"\n",
    "table_location = f\"s3a://{minio_bucket}/unified/{delta_table}\"\n",
    "df.write.format(\"delta\").mode(\"append\").save(table_location)"
   ]
  }
 ],
 "metadata": {
  "kernelspec": {
   "display_name": "Python 3 (ipykernel)",
   "language": "python",
   "name": "python3"
  },
  "language_info": {
   "codemirror_mode": {
    "name": "ipython",
    "version": 3
   },
   "file_extension": ".py",
   "mimetype": "text/x-python",
   "name": "python",
   "nbconvert_exporter": "python",
   "pygments_lexer": "ipython3",
   "version": "3.11.6"
  }
 },
 "nbformat": 4,
 "nbformat_minor": 5
}
