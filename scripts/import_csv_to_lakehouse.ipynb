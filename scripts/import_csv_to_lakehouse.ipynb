{
 "cells": [
  {
   "cell_type": "code",
   "execution_count": 1,
   "id": "3f087499-d677-4ac5-9f7a-7e81372640c2",
   "metadata": {},
   "outputs": [],
   "source": [
    "from pyspark.sql import SparkSession\n",
    "\n",
    "# Initialize Spark session with Delta Lake package\n",
    "spark = SparkSession.builder \\\n",
    "    .appName(\"ImportCSVLakehouse\") \\\n",
    "    .master(\"spark://dbms-spark-master:7077\") \\\n",
    "    .config(\"spark.jars.packages\", \"io.delta:delta-spark_2.12:3.2.0,org.apache.hadoop:hadoop-aws:3.3.4\") \\\n",
    "    .config(\"spark.sql.extensions\", \"io.delta.sql.DeltaSparkSessionExtension\") \\\n",
    "    .config(\"spark.sql.catalog.spark_catalog\", \"org.apache.spark.sql.delta.catalog.DeltaCatalog\") \\\n",
    "    .config(\"spark.hadoop.fs.s3a.endpoint\", \"http://dbms-minio:9000\") \\\n",
    "    .config(\"spark.hadoop.fs.s3a.access.key\", \"minio_user\") \\\n",
    "    .config(\"spark.hadoop.fs.s3a.secret.key\", \"minio_password\") \\\n",
    "    .config(\"spark.hadoop.fs.s3a.path.style.access\", \"true\") \\\n",
    "    .config(\"spark.hadoop.fs.s3a.impl\", \"org.apache.hadoop.fs.s3a.S3AFileSystem\") \\\n",
    "    .getOrCreate()\n"
   ]
  },
  {
   "cell_type": "code",
   "execution_count": 2,
   "id": "6ec99268-3bba-40a5-bc5b-15e93dabdb16",
   "metadata": {},
   "outputs": [
    {
     "name": "stdout",
     "output_type": "stream",
     "text": [
      "+--------------------+---------------+--------------------+--------------------+--------------------+--------------------+--------------------+--------------------+--------------------+----------+\n",
      "|          Profession|       Category|             Summary|          Educations|         Experiences|              Skills|              Awards|      certifications|           languages|references|\n",
      "+--------------------+---------------+--------------------+--------------------+--------------------+--------------------+--------------------+--------------------+--------------------+----------+\n",
      "|Information Techn...|  IT Technician|Versatile Systems...|[{'start_year': N...|[{'start_date': {...|                  []|                  []|[{'year': None, '...|                  []|        []|\n",
      "|Information Techn...|  IT Technician|Possesses an exte...|[{'start_year': N...|[{'start_date': {...|['Word', 'Excel',...|                  []|[{'year': None, '...|                  []|        []|\n",
      "| RF Systems Engineer|System Engineer|Multidisciplinary...|[{'start_year': 2...|[{'start_date': {...|['Microsoft offic...|                  []|                  []|                  []|        []|\n",
      "|HR Personnel Assi...|             HR|I am a U.S. citiz...|[{'start_year': 1...|[{'start_date': {...|['Microsoft Word'...|                  []|                  []|                  []|        []|\n",
      "|     Floral Designer|       Designer|Personable Custom...|[{'start_year': N...|[{'start_date': {...|['Inventory contr...|                  []|                  []|                  []|        []|\n",
      "|Information Techn...|  IT Technician|Dedicated IT Mana...|[{'start_year': N...|[{'start_date': {...|['Active Director...|                  []|                  []|                  []|        []|\n",
      "|       IT Management|  IT Technician|Detail-oriented p...|[{'start_year': N...|[{'start_date': {...|['A+ certified', ...|                NULL|[{'year': 2012, '...|                  []|        []|\n",
      "|HR Benefits/Leave...|             HR|13 years of Human...|[{'start_year': N...|[{'start_date': {...|['Banner', 'Peopl...|                  []|                  []|                  []|        []|\n",
      "|   Lighting Designer|       Designer|Computer savvy an...|[{'start_year': N...|[{'start_date': {...|['Building codes ...|                  []|                  []|                  []|        []|\n",
      "|    PRODUCT DESIGNER|       Designer|4-5 years enginee...|[{'start_year': N...|[{'start_date': {...|['AutoCAD', 'Soli...|                  []|                  []|                  []|        []|\n",
      "|Information Techn...|  IT Technician|Seeking to obtain...|                  []|[{'start_date': {...|['Desktops', 'Eth...|                  []|                  []|[{'name': 'Dari',...|        []|\n",
      "|Information Techn...|  IT Technician|Motivated Informa...|[{'start_year': N...|[{'start_date': {...|['configuration m...|                  []|[{'year': 2014, '...|                  []|        []|\n",
      "| MECHANICAL DESIGNER|       Designer|Im offering over ...|[{'start_year': N...|[{'start_date': {...|['Microsoft Suite...|                  []|[{'year': None, '...|                  []|        []|\n",
      "|          HR Manager|             HR|Human Resources M...|[{'start_year': N...|[{'start_date': {...|['administrative ...|                  []|[{'year': None, '...|                  []|        []|\n",
      "|Information Techn...|  IT Technician|AVP/Director of I...|[{'start_year': N...|[{'start_date': {...|['Sever Systems',...|[{'year': None, '...|[{'year': None, '...|                  []|        []|\n",
      "|Manager - Informa...|  IT Technician|Manager - Informa...|[{'start_year': N...|[{'start_date': {...|['System administ...|[{'year': 2010, '...|[{'year': None, '...|                  []|        []|\n",
      "|       HR Generalist|             HR|Dedicated and foc...|[{'start_year': N...|[{'start_date': {...|['administrative'...|                  []|[{'year': 2013, '...|                  []|        []|\n",
      "|HR Employee Relat...|             HR|Dedicated and sel...|[{'start_year': N...|[{'start_date': {...|['Critical Thinki...|                  []|                  []|                  []|        []|\n",
      "|  Technical Designer|  IT Technician|SPECIAL QUALIFICA...|[{'start_year': N...|[{'start_date': {...|['photo', 'Photos...|                  []|                  []|                  []|        []|\n",
      "|       HR Generalist|             HR|A people-oriented...|[{'start_year': N...|[{'start_date': {...|['Word', 'Excel',...|                  []|[{'year': 2014, '...|                  []|        []|\n",
      "+--------------------+---------------+--------------------+--------------------+--------------------+--------------------+--------------------+--------------------+--------------------+----------+\n",
      "only showing top 20 rows\n",
      "\n"
     ]
    }
   ],
   "source": [
    "minio_bucket=\"raw-bucket\"\n",
    "csv_path = f\"s3a://{minio_bucket}/image_cv/CV.csv\"\n",
    "\n",
    "# Read the CSV file\n",
    "df = spark.read\\\n",
    "    .option(\"delimiter\", \",\")\\\n",
    "    .option(\"encoding\", \"UTF-8\")\\\n",
    "    .option(\"escape\", \"\\\"\") \\\n",
    "    .option(\"multiline\", \"true\") \\\n",
    "    .csv(csv_path, header=True, inferSchema=True)\n",
    "# Show the data\n",
    "df.show(truncate=True)"
   ]
  },
  {
   "cell_type": "code",
   "execution_count": 4,
   "id": "aba03f28-a1ac-41b9-b0b8-1c738547d353",
   "metadata": {},
   "outputs": [],
   "source": [
    "delta_table = \"unified_cv\"\n",
    "cleaned_minio_bucket = \"cleaned-bucket\"\n",
    "table_location = f\"s3a://{cleaned_minio_bucket}/unified/{delta_table}\"\n",
    "df.write.format(\"delta\")\\\n",
    "    .option(\"mergeSchema\",\"true\")\\\n",
    "    .mode(\"append\")\\\n",
    "    .save(table_location)"
   ]
  },
  {
   "cell_type": "code",
   "execution_count": 5,
   "id": "c5a9ca06-cec8-4347-b7f7-3d737969a96c",
   "metadata": {},
   "outputs": [
    {
     "name": "stdout",
     "output_type": "stream",
     "text": [
      "+------------+--------------------+--------------------+--------------------+----------+-------+----------+-----------+------+------+--------------+---------+----------+\n",
      "|    Category|               Skill|             Company|             Project|Profession|Summary|Educations|Experiences|Skills|Awards|certifications|languages|references|\n",
      "+------------+--------------------+--------------------+--------------------+----------+-------+----------+-----------+------+------+--------------+---------+----------+\n",
      "|Data Science|[javascript, jque...|   Ernst & Young LLP|[{Core member of ...|      NULL|   NULL|      NULL|       NULL|  NULL|  NULL|          NULL|     NULL|      NULL|\n",
      "|Data Science|[python, statsmod...|            Matelabs|                  []|      NULL|   NULL|      NULL|       NULL|  NULL|  NULL|          NULL|     NULL|      NULL|\n",
      "|Data Science|[analysis, excel,...|      THEMATHCOMPANY|                  []|      NULL|   NULL|      NULL|       NULL|  NULL|  NULL|          NULL|     NULL|      NULL|\n",
      "|Data Science|[programming, ret...|        Deloitte USI|                  []|      NULL|   NULL|      NULL|       NULL|  NULL|  NULL|          NULL|     NULL|      NULL|\n",
      "|Data Science|[structure, c, an...|          Itechpower|                  []|      NULL|   NULL|      NULL|       NULL|  NULL|  NULL|          NULL|     NULL|      NULL|\n",
      "|Data Science|[office, c, learn...|                    |                  []|      NULL|   NULL|      NULL|       NULL|  NULL|  NULL|          NULL|     NULL|      NULL|\n",
      "|Data Science|[learning, python...|Heretic Solutions...|                  []|      NULL|   NULL|      NULL|       NULL|  NULL|  NULL|          NULL|     NULL|      NULL|\n",
      "|Data Science|[numpy, learning,...|  Wipro Technologies|                  []|      NULL|   NULL|      NULL|       NULL|  NULL|  NULL|          NULL|     NULL|      NULL|\n",
      "|Data Science|                  []|Life Insurance Co...|                  []|      NULL|   NULL|      NULL|       NULL|  NULL|  NULL|          NULL|     NULL|      NULL|\n",
      "|Data Science|[algorithms, bi, ...|   IBM India pvt ltd|                  []|      NULL|   NULL|      NULL|       NULL|  NULL|  NULL|          NULL|     NULL|      NULL|\n",
      "|Data Science|[javascript, jque...|   Ernst & Young LLP|[{Core member of ...|      NULL|   NULL|      NULL|       NULL|  NULL|  NULL|          NULL|     NULL|      NULL|\n",
      "|Data Science|[python, statsmod...|            Matelabs|                  []|      NULL|   NULL|      NULL|       NULL|  NULL|  NULL|          NULL|     NULL|      NULL|\n",
      "|Data Science|[analysis, excel,...|      THEMATHCOMPANY|                  []|      NULL|   NULL|      NULL|       NULL|  NULL|  NULL|          NULL|     NULL|      NULL|\n",
      "|Data Science|[programming, ret...|        Deloitte USI|                  []|      NULL|   NULL|      NULL|       NULL|  NULL|  NULL|          NULL|     NULL|      NULL|\n",
      "|Data Science|[structure, c, an...|          Itechpower|                  []|      NULL|   NULL|      NULL|       NULL|  NULL|  NULL|          NULL|     NULL|      NULL|\n",
      "|Data Science|[office, c, learn...|                    |                  []|      NULL|   NULL|      NULL|       NULL|  NULL|  NULL|          NULL|     NULL|      NULL|\n",
      "|Data Science|[learning, python...|Heretic Solutions...|                  []|      NULL|   NULL|      NULL|       NULL|  NULL|  NULL|          NULL|     NULL|      NULL|\n",
      "|Data Science|[numpy, learning,...|  Wipro Technologies|                  []|      NULL|   NULL|      NULL|       NULL|  NULL|  NULL|          NULL|     NULL|      NULL|\n",
      "|Data Science|                  []|Life Insurance Co...|                  []|      NULL|   NULL|      NULL|       NULL|  NULL|  NULL|          NULL|     NULL|      NULL|\n",
      "|Data Science|[algorithms, bi, ...|   IBM India pvt ltd|                  []|      NULL|   NULL|      NULL|       NULL|  NULL|  NULL|          NULL|     NULL|      NULL|\n",
      "+------------+--------------------+--------------------+--------------------+----------+-------+----------+-----------+------+------+--------------+---------+----------+\n",
      "only showing top 20 rows\n",
      "\n"
     ]
    }
   ],
   "source": [
    "delta_df = spark.read.format(\"delta\").load(table_location)\n",
    "delta_df.show()"
   ]
  }
 ],
 "metadata": {
  "kernelspec": {
   "display_name": "Python 3 (ipykernel)",
   "language": "python",
   "name": "python3"
  },
  "language_info": {
   "codemirror_mode": {
    "name": "ipython",
    "version": 3
   },
   "file_extension": ".py",
   "mimetype": "text/x-python",
   "name": "python",
   "nbconvert_exporter": "python",
   "pygments_lexer": "ipython3",
   "version": "3.11.6"
  }
 },
 "nbformat": 4,
 "nbformat_minor": 5
}
